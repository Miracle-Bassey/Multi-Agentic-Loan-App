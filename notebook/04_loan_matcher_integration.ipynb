{
 "cells": [
  {
   "cell_type": "code",
   "execution_count": null,
   "id": "initial_id",
   "metadata": {
    "collapsed": true
   },
   "outputs": [],
   "source": [
    ""
   ]
  },
  {
   "metadata": {},
   "cell_type": "markdown",
   "source": "### Import Libraries \n",
   "id": "e787073cdcf7d981"
  },
  {
   "metadata": {
    "ExecuteTime": {
     "end_time": "2025-04-17T20:46:01.793317Z",
     "start_time": "2025-04-17T20:46:01.779358Z"
    }
   },
   "cell_type": "code",
   "source": "import pandas as pd",
   "id": "7cc9f75dc5099825",
   "outputs": [],
   "execution_count": 1
  },
  {
   "metadata": {
    "ExecuteTime": {
     "end_time": "2025-04-17T22:22:00.946408Z",
     "start_time": "2025-04-17T22:22:00.926889Z"
    }
   },
   "cell_type": "code",
   "source": [
    "# create provider data - This is fake generated data.\n",
    "# NOTE: The following provider data is entirely synthetic and created for demonstration, prototyping purposes only. \n",
    "# It does not represent real financial institutions or actual lending criteria.\n",
    "\n",
    "\n",
    "\n",
    "provider_data = [\n",
    "    {\n",
    "        \"Provider\": \"BrightStart Capital\",\n",
    "        \"Min_Credit_Score\": 620,\n",
    "        \"Max_DTI\": 35,\n",
    "        \"Min_Loan_Amount\": 10000,\n",
    "        \"Max_Loan_Amount\": 300000,\n",
    "        \"Supported_Topics\": [\"Business & Income-Generating\", \"Investments & Portfolios\"],\n",
    "        \"Sentiment_Required\": \"positive\"\n",
    "    },\n",
    "    {\n",
    "        \"Provider\": \"CareEase Microloans\",\n",
    "        \"Min_Credit_Score\": 600,\n",
    "        \"Max_DTI\": 49,\n",
    "        \"Min_Loan_Amount\": 500,\n",
    "        \"Max_Loan_Amount\": 10000,\n",
    "        \"Supported_Topics\": [\"Essential & Personal Expenses\", \"Household & Family Needs\"],\n",
    "        \"Sentiment_Required\": \"any\"\n",
    "    },\n",
    "    {\n",
    "        \"Provider\": \"SkillBridge Finance\",\n",
    "        \"Min_Credit_Score\": 580,\n",
    "        \"Max_DTI\": 40,\n",
    "        \"Min_Loan_Amount\": 1500,\n",
    "        \"Max_Loan_Amount\": 25000,\n",
    "        \"Supported_Topics\": [\"Investments & Portfolios\", \"Business & Income-Generating\"],\n",
    "        \"Sentiment_Required\": \"neutral\"\n",
    "    },\n",
    "    {\n",
    "        \"Provider\": \"GreenLeaf Lending\",\n",
    "        \"Min_Credit_Score\": 700,\n",
    "        \"Max_DTI\": 25,\n",
    "        \"Min_Loan_Amount\": 25000,\n",
    "        \"Max_Loan_Amount\": 150000,\n",
    "        \"Supported_Topics\": [\"Household & Family Needs\", \"Investments & Portfolios\"],\n",
    "        \"Sentiment_Required\": \"positive\"\n",
    "    },\n",
    "    {\n",
    "        \"Provider\": \"QuickRelief Loans\",\n",
    "        \"Min_Credit_Score\": 480,\n",
    "        \"Max_DTI\": 60,\n",
    "        \"Min_Loan_Amount\": 100,\n",
    "        \"Max_Loan_Amount\": 3000,\n",
    "        \"Supported_Topics\": [\"Essential & Personal Expenses\"],\n",
    "        \"Sentiment_Required\": \"any\"\n",
    "    },\n",
    "    {\n",
    "        \"Provider\": \"SafePaw Credit\",\n",
    "        \"Min_Credit_Score\": 560,\n",
    "        \"Max_DTI\": 45,\n",
    "        \"Min_Loan_Amount\": 500,\n",
    "        \"Max_Loan_Amount\": 8000,\n",
    "        \"Supported_Topics\": [\"Pet-Related Expenses\", \"Lifestyle or Outliers\"],\n",
    "        \"Sentiment_Required\": \"any\"\n",
    "    },\n",
    "    {\n",
    "        \"Provider\": \"EduWise Foundation\",\n",
    "        \"Min_Credit_Score\": 630,\n",
    "        \"Max_DTI\": 30,\n",
    "        \"Min_Loan_Amount\": 2000,\n",
    "        \"Max_Loan_Amount\": 40000,\n",
    "        \"Supported_Topics\": [\"Investments & Portfolios\", \"Household & Family Needs\"],\n",
    "        \"Sentiment_Required\": \"positive\"\n",
    "    },\n",
    "    {\n",
    "        \"Provider\": \"MomentumBridge Capital\",\n",
    "        \"Min_Credit_Score\": 650,\n",
    "        \"Max_DTI\": 30,\n",
    "        \"Min_Loan_Amount\": 10000,\n",
    "        \"Max_Loan_Amount\": 100000,\n",
    "        \"Supported_Topics\": [\"Business & Income-Generating\", \"Investments & Portfolios\"],\n",
    "        \"Sentiment_Required\": \"positive\"\n",
    "    },\n",
    "    {\n",
    "        \"Provider\": \"FamilyFirst Microfinance\",\n",
    "        \"Min_Credit_Score\": 540,\n",
    "        \"Max_DTI\": 50,\n",
    "        \"Min_Loan_Amount\": 1500,\n",
    "        \"Max_Loan_Amount\": 20000,\n",
    "        \"Supported_Topics\": [\"Household & Family Needs\", \"Essential & Personal Expenses\"],\n",
    "        \"Sentiment_Required\": \"any\"\n",
    "    },\n",
    "    {\n",
    "        \"Provider\": \"HopeLine Credit Union\",\n",
    "        \"Min_Credit_Score\": 500,\n",
    "        \"Max_DTI\": 60,\n",
    "        \"Min_Loan_Amount\": 200,\n",
    "        \"Max_Loan_Amount\": 5000,\n",
    "        \"Supported_Topics\": [\"Lifestyle or Outliers\", \"Essential & Personal Expenses\"],\n",
    "        \"Sentiment_Required\": \"negative\"\n",
    "    }\n",
    "]\n"
   ],
   "id": "c7fd1deb18a232f9",
   "outputs": [],
   "execution_count": 3
  },
  {
   "metadata": {
    "ExecuteTime": {
     "end_time": "2025-04-17T22:22:08.116996Z",
     "start_time": "2025-04-17T22:22:08.104777Z"
    }
   },
   "cell_type": "code",
   "source": "df = pd.DataFrame(provider_data)",
   "id": "663cd6b60554b735",
   "outputs": [],
   "execution_count": 4
  },
  {
   "metadata": {},
   "cell_type": "code",
   "outputs": [],
   "execution_count": null,
   "source": "# map topic to topic labels and map sentiment to sentiment labels\n",
   "id": "77382f4b0cf2b180"
  },
  {
   "metadata": {
    "ExecuteTime": {
     "end_time": "2025-04-17T22:36:48.046203Z",
     "start_time": "2025-04-17T22:36:48.029937Z"
    }
   },
   "cell_type": "code",
   "source": [
    "def match_providers(applicant, providers_df):\n",
    "    matches = []\n",
    "\n",
    "    for _, row in providers_df.iterrows():\n",
    "        # check if credit score is okay\n",
    "        credit_ok = applicant['Credit_Score'] >= row['Min_Credit_Score']\n",
    "\n",
    "        # check if DTI is not too high\n",
    "        dti_ok = applicant['DTI_Ratio'] <= row['Max_DTI']\n",
    "\n",
    "        # check if loan amount falls within their range\n",
    "        loan_ok = row['Min_Loan_Amount'] <= applicant['Loan_Amount'] <= row['Max_Loan_Amount']\n",
    "\n",
    "        # check if topic is accepted, or if provider allows any topic\n",
    "        topic_ok = (\n",
    "                \"any\" in [t.lower() for t in row['Supported_Topics']] or\n",
    "                applicant['Topic'] in row['Supported_Topics']\n",
    "        )\n",
    "\n",
    "        # check if sentiment is accepted, or if provider allows any sentiment\n",
    "        sentiment_ok = (\n",
    "                row['Sentiment_Required'].lower() == \"any\" or\n",
    "                applicant['Sentiment'].lower() == row['Sentiment_Required'].lower()\n",
    "        )\n",
    "\n",
    "        # if everything passes, keep this provider as a match\n",
    "        if all([credit_ok, dti_ok, loan_ok, topic_ok, sentiment_ok]):\n",
    "            matches.append(row['Provider'])\n",
    "\n",
    "    # return the list of matched providers, or a message if none matched\n",
    "    return matches if matches else [\"No match - applicant not eligible\"]\n"
   ],
   "id": "afef0c6087a82f0d",
   "outputs": [],
   "execution_count": 5
  },
  {
   "metadata": {},
   "cell_type": "code",
   "outputs": [],
   "execution_count": null,
   "source": "",
   "id": "caf3b9ddf118696a"
  },
  {
   "metadata": {},
   "cell_type": "markdown",
   "source": "### Test Logic",
   "id": "10aa81567619c81b"
  },
  {
   "metadata": {
    "ExecuteTime": {
     "end_time": "2025-04-17T22:37:49.499599Z",
     "start_time": "2025-04-17T22:37:49.481203Z"
    }
   },
   "cell_type": "code",
   "source": [
    "#applicant info\n",
    "applicant = {\n",
    "    \"Credit_Score\": 580,\n",
    "    \"DTI_Ratio\": 35,\n",
    "    \"Loan_Amount\": 5000,\n",
    "    \"Topic\": \"Essential & Personal Expenses\",\n",
    "    \"Sentiment\": \"positive\"\n",
    "}\n",
    "\n",
    "\n",
    "# pass applicant info \n",
    "match_providers(applicant, df)"
   ],
   "id": "4c217440e1cac7be",
   "outputs": [
    {
     "data": {
      "text/plain": [
       "['FamilyFirst Microfinance']"
      ]
     },
     "execution_count": 6,
     "metadata": {},
     "output_type": "execute_result"
    }
   ],
   "execution_count": 6
  },
  {
   "metadata": {},
   "cell_type": "code",
   "outputs": [],
   "execution_count": null,
   "source": [
    "# but we know the data wount come this way \n",
    "# over to modular code building. to create a working pipeline \n",
    "# from data ingestion, to nlp agent, to predictive approval model agent and lastly to returning a match loan provider. "
   ],
   "id": "898a282b25817e28"
  },
  {
   "metadata": {
    "ExecuteTime": {
     "end_time": "2025-04-17T22:41:44.952763Z",
     "start_time": "2025-04-17T22:41:44.929265Z"
    }
   },
   "cell_type": "code",
   "source": [
    "# save provider data\n",
    "df.to_csv('../data/cleaned/provider_data.csv', index=False)"
   ],
   "id": "e4940e54f912c7b2",
   "outputs": [],
   "execution_count": 7
  },
  {
   "metadata": {},
   "cell_type": "code",
   "outputs": [],
   "execution_count": null,
   "source": "",
   "id": "838c76f2233aafd"
  }
 ],
 "metadata": {
  "kernelspec": {
   "display_name": "Python 3",
   "language": "python",
   "name": "python3"
  },
  "language_info": {
   "codemirror_mode": {
    "name": "ipython",
    "version": 2
   },
   "file_extension": ".py",
   "mimetype": "text/x-python",
   "name": "python",
   "nbconvert_exporter": "python",
   "pygments_lexer": "ipython2",
   "version": "2.7.6"
  }
 },
 "nbformat": 4,
 "nbformat_minor": 5
}
