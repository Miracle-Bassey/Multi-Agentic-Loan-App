{
 "cells": [
  {
   "metadata": {},
   "cell_type": "markdown",
   "source": "# Project Overview\n",
   "id": "f8961d7cc99c4ddd"
  },
  {
   "metadata": {},
   "cell_type": "markdown",
   "source": "## Libraries",
   "id": "b468fb301778dc0b"
  },
  {
   "metadata": {
    "ExecuteTime": {
     "end_time": "2025-04-12T01:04:32.626346Z",
     "start_time": "2025-04-12T01:04:31.072410Z"
    }
   },
   "cell_type": "code",
   "source": [
    "import pandas as pd\n",
    "import numpy as np"
   ],
   "id": "5c642a41fb27cf33",
   "outputs": [],
   "execution_count": 2
  },
  {
   "metadata": {},
   "cell_type": "markdown",
   "source": "## Import Data\n",
   "id": "5e82f8ede4d342ca"
  },
  {
   "metadata": {
    "ExecuteTime": {
     "end_time": "2025-04-12T01:06:52.578225Z",
     "start_time": "2025-04-12T01:06:52.524858Z"
    }
   },
   "cell_type": "code",
   "source": "df = pd.read_csv(r'C:\\Users\\efrui\\DataspellProjects\\Sentiment\\data\\raw\\loan_data.csv')",
   "id": "4cae3c08b8547e60",
   "outputs": [],
   "execution_count": 6
  },
  {
   "metadata": {
    "ExecuteTime": {
     "end_time": "2025-04-12T01:06:59.553485Z",
     "start_time": "2025-04-12T01:06:59.521279Z"
    }
   },
   "cell_type": "code",
   "source": "df.head()",
   "id": "c1042474683c8d13",
   "outputs": [
    {
     "data": {
      "text/plain": [
       "                                                Text  Income  Credit_Score  \\\n",
       "0  I need a loan to pay for an international vaca...   26556           581   \n",
       "1  I want to make home improvements like installi...  197392           389   \n",
       "2  I need a loan for home renovation, including a...   44561           523   \n",
       "3  I need funds to buy new furniture and applianc...  190363           729   \n",
       "4           I need a loan to start a small business.   61853           732   \n",
       "\n",
       "   Loan_Amount  DTI_Ratio Employment_Status  Approval  \n",
       "0         8314      79.26          employed  Rejected  \n",
       "1       111604      22.14          employed  Rejected  \n",
       "2        34118      45.44          employed  Rejected  \n",
       "3       118757      10.22        unemployed  Rejected  \n",
       "4        19210      44.13          employed  Approved  "
      ],
      "text/html": [
       "<div>\n",
       "<style scoped>\n",
       "    .dataframe tbody tr th:only-of-type {\n",
       "        vertical-align: middle;\n",
       "    }\n",
       "\n",
       "    .dataframe tbody tr th {\n",
       "        vertical-align: top;\n",
       "    }\n",
       "\n",
       "    .dataframe thead th {\n",
       "        text-align: right;\n",
       "    }\n",
       "</style>\n",
       "<table border=\"1\" class=\"dataframe\">\n",
       "  <thead>\n",
       "    <tr style=\"text-align: right;\">\n",
       "      <th></th>\n",
       "      <th>Text</th>\n",
       "      <th>Income</th>\n",
       "      <th>Credit_Score</th>\n",
       "      <th>Loan_Amount</th>\n",
       "      <th>DTI_Ratio</th>\n",
       "      <th>Employment_Status</th>\n",
       "      <th>Approval</th>\n",
       "    </tr>\n",
       "  </thead>\n",
       "  <tbody>\n",
       "    <tr>\n",
       "      <th>0</th>\n",
       "      <td>I need a loan to pay for an international vaca...</td>\n",
       "      <td>26556</td>\n",
       "      <td>581</td>\n",
       "      <td>8314</td>\n",
       "      <td>79.26</td>\n",
       "      <td>employed</td>\n",
       "      <td>Rejected</td>\n",
       "    </tr>\n",
       "    <tr>\n",
       "      <th>1</th>\n",
       "      <td>I want to make home improvements like installi...</td>\n",
       "      <td>197392</td>\n",
       "      <td>389</td>\n",
       "      <td>111604</td>\n",
       "      <td>22.14</td>\n",
       "      <td>employed</td>\n",
       "      <td>Rejected</td>\n",
       "    </tr>\n",
       "    <tr>\n",
       "      <th>2</th>\n",
       "      <td>I need a loan for home renovation, including a...</td>\n",
       "      <td>44561</td>\n",
       "      <td>523</td>\n",
       "      <td>34118</td>\n",
       "      <td>45.44</td>\n",
       "      <td>employed</td>\n",
       "      <td>Rejected</td>\n",
       "    </tr>\n",
       "    <tr>\n",
       "      <th>3</th>\n",
       "      <td>I need funds to buy new furniture and applianc...</td>\n",
       "      <td>190363</td>\n",
       "      <td>729</td>\n",
       "      <td>118757</td>\n",
       "      <td>10.22</td>\n",
       "      <td>unemployed</td>\n",
       "      <td>Rejected</td>\n",
       "    </tr>\n",
       "    <tr>\n",
       "      <th>4</th>\n",
       "      <td>I need a loan to start a small business.</td>\n",
       "      <td>61853</td>\n",
       "      <td>732</td>\n",
       "      <td>19210</td>\n",
       "      <td>44.13</td>\n",
       "      <td>employed</td>\n",
       "      <td>Approved</td>\n",
       "    </tr>\n",
       "  </tbody>\n",
       "</table>\n",
       "</div>"
      ]
     },
     "execution_count": 7,
     "metadata": {},
     "output_type": "execute_result"
    }
   ],
   "execution_count": 7
  },
  {
   "metadata": {},
   "cell_type": "markdown",
   "source": "### Explore Data",
   "id": "13041d2fe0933c0b"
  },
  {
   "metadata": {
    "ExecuteTime": {
     "end_time": "2025-04-12T01:08:59.072230Z",
     "start_time": "2025-04-12T01:08:59.056229Z"
    }
   },
   "cell_type": "code",
   "source": "df.isnull().sum()",
   "id": "1bca5cc8289aa496",
   "outputs": [
    {
     "data": {
      "text/plain": [
       "Text                 0\n",
       "Income               0\n",
       "Credit_Score         0\n",
       "Loan_Amount          0\n",
       "DTI_Ratio            0\n",
       "Employment_Status    0\n",
       "Approval             0\n",
       "dtype: int64"
      ]
     },
     "execution_count": 10,
     "metadata": {},
     "output_type": "execute_result"
    }
   ],
   "execution_count": 10
  },
  {
   "metadata": {
    "ExecuteTime": {
     "end_time": "2025-04-12T01:09:48.693682Z",
     "start_time": "2025-04-12T01:09:48.674299Z"
    }
   },
   "cell_type": "code",
   "source": "df.info()",
   "id": "374a9e14407e665d",
   "outputs": [
    {
     "name": "stdout",
     "output_type": "stream",
     "text": [
      "<class 'pandas.core.frame.DataFrame'>\n",
      "RangeIndex: 24000 entries, 0 to 23999\n",
      "Data columns (total 7 columns):\n",
      " #   Column             Non-Null Count  Dtype  \n",
      "---  ------             --------------  -----  \n",
      " 0   Text               24000 non-null  object \n",
      " 1   Income             24000 non-null  int64  \n",
      " 2   Credit_Score       24000 non-null  int64  \n",
      " 3   Loan_Amount        24000 non-null  int64  \n",
      " 4   DTI_Ratio          24000 non-null  float64\n",
      " 5   Employment_Status  24000 non-null  object \n",
      " 6   Approval           24000 non-null  object \n",
      "dtypes: float64(1), int64(3), object(3)\n",
      "memory usage: 1.3+ MB\n"
     ]
    }
   ],
   "execution_count": 11
  },
  {
   "metadata": {
    "ExecuteTime": {
     "end_time": "2025-04-12T01:07:37.743644Z",
     "start_time": "2025-04-12T01:07:37.716176Z"
    }
   },
   "cell_type": "code",
   "source": "df.describe()",
   "id": "35287106f2db617d",
   "outputs": [
    {
     "data": {
      "text/plain": [
       "              Income  Credit_Score    Loan_Amount     DTI_Ratio\n",
       "count   24000.000000  24000.000000   24000.000000  24000.000000\n",
       "mean   110377.552708    575.720333   44356.154833     34.719167\n",
       "std     51729.677627    159.227621   34666.604785     32.322471\n",
       "min     20001.000000    300.000000    1005.000000      2.530000\n",
       "25%     65635.750000    437.000000   16212.000000     14.507500\n",
       "50%    110464.000000    575.000000   35207.000000     24.860000\n",
       "75%    155187.000000    715.000000   65622.750000     41.840000\n",
       "max    200000.000000    850.000000  158834.000000    246.330000"
      ],
      "text/html": [
       "<div>\n",
       "<style scoped>\n",
       "    .dataframe tbody tr th:only-of-type {\n",
       "        vertical-align: middle;\n",
       "    }\n",
       "\n",
       "    .dataframe tbody tr th {\n",
       "        vertical-align: top;\n",
       "    }\n",
       "\n",
       "    .dataframe thead th {\n",
       "        text-align: right;\n",
       "    }\n",
       "</style>\n",
       "<table border=\"1\" class=\"dataframe\">\n",
       "  <thead>\n",
       "    <tr style=\"text-align: right;\">\n",
       "      <th></th>\n",
       "      <th>Income</th>\n",
       "      <th>Credit_Score</th>\n",
       "      <th>Loan_Amount</th>\n",
       "      <th>DTI_Ratio</th>\n",
       "    </tr>\n",
       "  </thead>\n",
       "  <tbody>\n",
       "    <tr>\n",
       "      <th>count</th>\n",
       "      <td>24000.000000</td>\n",
       "      <td>24000.000000</td>\n",
       "      <td>24000.000000</td>\n",
       "      <td>24000.000000</td>\n",
       "    </tr>\n",
       "    <tr>\n",
       "      <th>mean</th>\n",
       "      <td>110377.552708</td>\n",
       "      <td>575.720333</td>\n",
       "      <td>44356.154833</td>\n",
       "      <td>34.719167</td>\n",
       "    </tr>\n",
       "    <tr>\n",
       "      <th>std</th>\n",
       "      <td>51729.677627</td>\n",
       "      <td>159.227621</td>\n",
       "      <td>34666.604785</td>\n",
       "      <td>32.322471</td>\n",
       "    </tr>\n",
       "    <tr>\n",
       "      <th>min</th>\n",
       "      <td>20001.000000</td>\n",
       "      <td>300.000000</td>\n",
       "      <td>1005.000000</td>\n",
       "      <td>2.530000</td>\n",
       "    </tr>\n",
       "    <tr>\n",
       "      <th>25%</th>\n",
       "      <td>65635.750000</td>\n",
       "      <td>437.000000</td>\n",
       "      <td>16212.000000</td>\n",
       "      <td>14.507500</td>\n",
       "    </tr>\n",
       "    <tr>\n",
       "      <th>50%</th>\n",
       "      <td>110464.000000</td>\n",
       "      <td>575.000000</td>\n",
       "      <td>35207.000000</td>\n",
       "      <td>24.860000</td>\n",
       "    </tr>\n",
       "    <tr>\n",
       "      <th>75%</th>\n",
       "      <td>155187.000000</td>\n",
       "      <td>715.000000</td>\n",
       "      <td>65622.750000</td>\n",
       "      <td>41.840000</td>\n",
       "    </tr>\n",
       "    <tr>\n",
       "      <th>max</th>\n",
       "      <td>200000.000000</td>\n",
       "      <td>850.000000</td>\n",
       "      <td>158834.000000</td>\n",
       "      <td>246.330000</td>\n",
       "    </tr>\n",
       "  </tbody>\n",
       "</table>\n",
       "</div>"
      ]
     },
     "execution_count": 8,
     "metadata": {},
     "output_type": "execute_result"
    }
   ],
   "execution_count": 8
  },
  {
   "metadata": {
    "ExecuteTime": {
     "end_time": "2025-04-12T01:11:40.224396Z",
     "start_time": "2025-04-12T01:11:40.209730Z"
    }
   },
   "cell_type": "code",
   "source": [
    "# Preview the text  column\n",
    "df['Text'].sample(10)"
   ],
   "id": "831503f95dd42040",
   "outputs": [
    {
     "data": {
      "text/plain": [
       "18658    I need a loan to support my side business sell...\n",
       "1798     I need a loan to pay for my son's medical trea...\n",
       "7838     I need financial support to renovate my rental...\n",
       "6556     I need funds to pay for my pilot training prog...\n",
       "23165    I want to start a small roadside food stall an...\n",
       "11747    I want to start a local transportation service...\n",
       "7684     I need a loan to cover emergency expenses afte...\n",
       "303      I want to purchase land to start an organic fa...\n",
       "3367     I need a loan to cover emergency expenses afte...\n",
       "9374     I need financial help to install a swimming po...\n",
       "Name: Text, dtype: object"
      ]
     },
     "execution_count": 12,
     "metadata": {},
     "output_type": "execute_result"
    }
   ],
   "execution_count": 12
  },
  {
   "metadata": {
    "ExecuteTime": {
     "end_time": "2025-04-12T01:21:06.033600Z",
     "start_time": "2025-04-12T01:21:06.001518Z"
    }
   },
   "cell_type": "code",
   "source": [
    "# Check length of TExt\n",
    "df['text_length'] = df['Text'].astype(str).apply(len)\n",
    "df['text_length'].describe()"
   ],
   "id": "75e4d490a3832f8",
   "outputs": [
    {
     "data": {
      "text/plain": [
       "count    24000.000000\n",
       "mean        63.313167\n",
       "std          8.202554\n",
       "min         40.000000\n",
       "25%         57.000000\n",
       "50%         64.000000\n",
       "75%         69.000000\n",
       "max         82.000000\n",
       "Name: text_length, dtype: float64"
      ]
     },
     "execution_count": 13,
     "metadata": {},
     "output_type": "execute_result"
    }
   ],
   "execution_count": 13
  },
  {
   "metadata": {
    "ExecuteTime": {
     "end_time": "2025-04-12T01:24:09.493580Z",
     "start_time": "2025-04-12T01:24:09.466401Z"
    }
   },
   "cell_type": "code",
   "source": [
    "# Drop duplicate\n",
    "df = df.drop_duplicates()"
   ],
   "id": "c6f781254593c3c6",
   "outputs": [],
   "execution_count": 14
  },
  {
   "metadata": {
    "ExecuteTime": {
     "end_time": "2025-04-12T01:24:17.714792Z",
     "start_time": "2025-04-12T01:24:17.698616Z"
    }
   },
   "cell_type": "code",
   "source": "df.info()",
   "id": "767c232f67e64d14",
   "outputs": [
    {
     "name": "stdout",
     "output_type": "stream",
     "text": [
      "<class 'pandas.core.frame.DataFrame'>\n",
      "RangeIndex: 24000 entries, 0 to 23999\n",
      "Data columns (total 8 columns):\n",
      " #   Column             Non-Null Count  Dtype  \n",
      "---  ------             --------------  -----  \n",
      " 0   Text               24000 non-null  object \n",
      " 1   Income             24000 non-null  int64  \n",
      " 2   Credit_Score       24000 non-null  int64  \n",
      " 3   Loan_Amount        24000 non-null  int64  \n",
      " 4   DTI_Ratio          24000 non-null  float64\n",
      " 5   Employment_Status  24000 non-null  object \n",
      " 6   Approval           24000 non-null  object \n",
      " 7   text_length        24000 non-null  int64  \n",
      "dtypes: float64(1), int64(4), object(3)\n",
      "memory usage: 1.5+ MB\n"
     ]
    }
   ],
   "execution_count": 15
  },
  {
   "metadata": {},
   "cell_type": "markdown",
   "source": [
    "Insight:\n",
    "\n",
    "No missing data,No duplicates, the text data looks clean with no unusual formating. has an average text length of 63 alphabets\n",
    "\n",
    "Dataset comprises of 3 categorical columns and 4 numerical column. I am dealing with 2400 records.\n",
    "\n",
    "some of the  categorical columns will go through simple label encoding, they obviously have no order. Next text labeling."
   ],
   "id": "14f6b7a8798a856b"
  },
  {
   "metadata": {},
   "cell_type": "markdown",
   "source": "## Export Cleaned Data",
   "id": "58489e58c340ed66"
  },
  {
   "metadata": {
    "ExecuteTime": {
     "end_time": "2025-04-12T01:30:50.696826Z",
     "start_time": "2025-04-12T01:30:50.578681Z"
    }
   },
   "cell_type": "code",
   "source": [
    "# Save as a new processed file\n",
    "df.to_csv(r'C:\\Users\\efrui\\DataspellProjects\\Sentiment\\data\\cleaned\\clean_loan_data.csv', index=False)"
   ],
   "id": "3dc6866daa940db5",
   "outputs": [],
   "execution_count": 17
  },
  {
   "metadata": {},
   "cell_type": "code",
   "outputs": [],
   "execution_count": null,
   "source": "",
   "id": "f1f9111a28433cca"
  }
 ],
 "metadata": {
  "kernelspec": {
   "display_name": "Python 3",
   "language": "python",
   "name": "python3"
  },
  "language_info": {
   "codemirror_mode": {
    "name": "ipython",
    "version": 2
   },
   "file_extension": ".py",
   "mimetype": "text/x-python",
   "name": "python",
   "nbconvert_exporter": "python",
   "pygments_lexer": "ipython2",
   "version": "2.7.6"
  }
 },
 "nbformat": 4,
 "nbformat_minor": 5
}
